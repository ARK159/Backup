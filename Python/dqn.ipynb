{
 "cells": [
  {
   "cell_type": "code",
   "execution_count": null,
   "metadata": {},
   "outputs": [],
   "source": [
    "import gym\n",
    "import numpy as np\n",
    "from numpy import random\n",
    "import time\n",
    "env=gym.make('MountainCar-v0')\n",
    "import matplotlib.pyplot as plt "
   ]
  },
  {
   "cell_type": "code",
   "execution_count": null,
   "metadata": {},
   "outputs": [],
   "source": [
    "DESCRETE_OS_SIZE=[20]*2\n",
    "descrete_os_win=(env.observation_space.high-env.observation_space.low)/DESCRETE_OS_SIZE\n",
    "q_table=np.random.uniform(low=-2,high=0,size=DESCRETE_OS_SIZE+[env.action_space.n])\n",
    "np.shape(q_table)\n",
    "print(q_table)\n",
    "def get_descrete_state(state):\n",
    "    descrete_state=(state-env.observation_space.low)/(descrete_os_win)\n",
    "    return  tuple(descrete_state.astype(np.int32))"
   ]
  },
  {
   "cell_type": "code",
   "execution_count": null,
   "metadata": {},
   "outputs": [],
   "source": [
    "ep_rewards=[]\n",
    "stats={'ep':[],'avg':[],'min':[],'max':[]}\n",
    "SHOW_EVERY=500\n",
    "epi_rewards=[]"
   ]
  },
  {
   "cell_type": "code",
   "execution_count": null,
   "metadata": {},
   "outputs": [],
   "source": [
    "alpha=0.1\n",
    "gamma=0.95\n",
    "EPISODES=2000\n",
    "episilon=0.5\n",
    "start_decay=1\n",
    "end_decay=EPISODES//2\n",
    "decay_value=episilon/(end_decay-start_decay)\n",
    "for episode in range(EPISODES):\n",
    "    ep_reward=0\n",
    "    descrete_state=get_descrete_state(env.reset())\n",
    "    if episode%2000 ==0:\n",
    "        render=True\n",
    "        print(episode)\n",
    "    else:\n",
    "        render=False\n",
    "    done=False\n",
    "    while not done:\n",
    "   \n",
    "        if np.random.random()>episilon:\n",
    "            action=np.argmax(q_table[descrete_state[0]][descrete_state[1]])\n",
    "        else:\n",
    "            action=env.action_space.sample()\n",
    "        new_state,reward,done,_=env.step(action)\n",
    "        ep_reward+=reward\n",
    "        \n",
    "        descrete_new_state=get_descrete_state(new_state)\n",
    "        if render:\n",
    "            # env.render()\n",
    "            pass\n",
    "        if not done:\n",
    "            max_future_q=np.max(q_table[descrete_new_state])\n",
    "            current_q=q_table[descrete_state][action]\n",
    "            new_q=current_q+alpha*(reward+gamma*max_future_q-current_q)\n",
    "            q_table[descrete_state][action]=new_q\n",
    "        elif new_state[0]>=env.goal_position:\n",
    "            q_table[descrete_state][action]=0\n",
    "            # if(not render):\n",
    "            # env.render()\n",
    "            print(episode)\n",
    "    epi_rewards.append(ep_reward)\n",
    "    if episode%SHOW_EVERY==0:\n",
    "        stats['avg'].append(sum(epi_rewards[-SHOW_EVERY:])/SHOW_EVERY)\n",
    "        stats['ep'].append(episode)\n",
    "        stats['max'].append(max(epi_rewards[-SHOW_EVERY:]))\n",
    "        stats['min'].append(min(epi_rewards[-SHOW_EVERY:]))\n",
    "    descrete_state=descrete_new_state\n",
    "    if episode>=start_decay and episode<=end_decay:\n",
    "        episilon-=decay_value\n",
    "    if episode % 10 == 0:\n",
    "        np.save(f\"{episode}\", q_table)\n",
    "            # C:\\Users\\User\\Desktop\\Python\n",
    "env.close()\n",
    "\n",
    "\n",
    "    \n",
    "     "
   ]
  },
  {
   "cell_type": "code",
   "execution_count": null,
   "metadata": {},
   "outputs": [],
   "source": [
    "plt.plot(stats['ep'], stats['avg'], label=\"average rewards\")\n",
    "plt.plot(stats['ep'], stats['max'], label=\"max rewards\")\n",
    "plt.plot(stats['ep'], stats['min'], label=\"min rewards\")\n",
    "plt.legend(loc=1)\n",
    "plt.show()"
   ]
  },
  {
   "cell_type": "code",
   "execution_count": null,
   "metadata": {},
   "outputs": [],
   "source": [
    "from matplotlib import style\n",
    "style.use('ggplot')\n",
    "\n",
    "\n",
    "def get_q_color(value, vals):\n",
    "    if value == max(vals):\n",
    "        return \"green\", 1.0\n",
    "    else:\n",
    "        return \"red\", 0.3\n",
    "\n",
    "\n",
    "fig = plt.figure(figsize=(12, 9))\n",
    "\n",
    "\n",
    "for i in range(0,20000, 10):\n",
    "    print(i)\n",
    "    ax1 = fig.add_subplot(311)\n",
    "    ax2 = fig.add_subplot(312)\n",
    "    ax3 = fig.add_subplot(313)\n",
    "\n",
    "    q_table = np.load(f\"{i}.npy\")\n",
    "\n",
    "    for x, x_vals in enumerate(q_table):\n",
    "        for y, y_vals in enumerate(x_vals):\n",
    "            ax1.scatter(x, y, c=get_q_color(y_vals[0], y_vals)[0], marker=\"o\", alpha=get_q_color(y_vals[0], y_vals)[1])\n",
    "            ax2.scatter(x, y, c=get_q_color(y_vals[1], y_vals)[0], marker=\"o\", alpha=get_q_color(y_vals[1], y_vals)[1])\n",
    "            ax3.scatter(x, y, c=get_q_color(y_vals[2], y_vals)[0], marker=\"o\", alpha=get_q_color(y_vals[2], y_vals)[1])\n",
    "\n",
    "            ax1.set_ylabel(\"Action 0\")\n",
    "            ax2.set_ylabel(\"Action 1\")\n",
    "            ax3.set_ylabel(\"Action 2\")\n",
    "\n",
    "    #plt.show()\n",
    "    plt.savefig(f\"{i}.png\")\n",
    "    plt.clf()"
   ]
  },
  {
   "cell_type": "code",
   "execution_count": null,
   "metadata": {},
   "outputs": [],
   "source": [
    "import os\n",
    "for i in range(0,6000,10):\n",
    "    os.remove(f\"{i}.npy\")"
   ]
  },
  {
   "cell_type": "code",
   "execution_count": null,
   "metadata": {},
   "outputs": [],
   "source": []
  }
 ],
 "metadata": {
  "kernelspec": {
   "display_name": "base",
   "language": "python",
   "name": "python3"
  },
  "language_info": {
   "codemirror_mode": {
    "name": "ipython",
    "version": 3
   },
   "file_extension": ".py",
   "mimetype": "text/x-python",
   "name": "python",
   "nbconvert_exporter": "python",
   "pygments_lexer": "ipython3",
   "version": "3.9.12"
  },
  "orig_nbformat": 4,
  "vscode": {
   "interpreter": {
    "hash": "f08154012ddadd8e950e6e9e035c7a7b32c136e7647e9b7c77e02eb723a8bedb"
   }
  }
 },
 "nbformat": 4,
 "nbformat_minor": 2
}
